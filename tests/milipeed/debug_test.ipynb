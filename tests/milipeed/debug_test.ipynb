{
 "cells": [
  {
   "cell_type": "code",
   "execution_count": 5,
   "metadata": {},
   "outputs": [],
   "source": [
    "import numpy as np\n",
    "import timeit\n",
    "import matplotlib.pyplot as plt"
   ]
  },
  {
   "cell_type": "code",
   "execution_count": null,
   "metadata": {},
   "outputs": [],
   "source": [
    "Y = np.random.randint(0, 5, (1000, 1000), dtype = np.int8)\n",
    "i, j = np.triu_indices(1000, 1)\n",
    "Y[i, j] = Y[j, i]\n",
    "values = np.array([0.3, 0.5, 0.6, 0.9, 2.0])\n",
    "full = values[Y]\n",
    "# full would correspond to your original matrix,\n",
    "# Y is the 'compressed' version\n",
    "\n",
    "x = np.random.random((3000,))\n",
    "\n",
    "# direct method for reference \n",
    "# x @ full @ x\n",
    "\n",
    "\n",
    "# # memory saving version\n",
    "# np.dot([(values * np.bincount(row, x)).sum() for row in Y], x)\n",
    "\n",
    "\n",
    "# # to save another almost 50% exploit symmetry\n",
    "upper = Y[i, j]\n",
    "diag = np.diagonal(Y)\n",
    "\n",
    "boundaries = np.r_[0, np.cumsum(np.arange(999, 0, -1))]\n",
    "(values*np.bincount(diag, x*x)).sum() + 2 * np.dot([(values*np.bincount(upper[boundaries[i]:boundaries[i+1]], x[i+1:],minlength=5)).sum() for i in range(999)], x[:-1])\n"
   ]
  },
  {
   "cell_type": "code",
   "execution_count": 12,
   "metadata": {},
   "outputs": [],
   "source": [
    "##make symmetric matrix\n",
    "Y = np.random.randint(0, 5, (3000, 3000), dtype = np.int8)\n",
    "i, j = np.triu_indices(3000, 1)\n",
    "Y[i, j] = Y[j, i]\n",
    "\n",
    "values = np.array([0.3, 0.5, 0.6, 0.9, 2.0])\n",
    "Ycmp = (np.reshape(Y, (1000, 3, 3000)) * np.array([25, 5, 1], dtype=np.int8)[None, :, None]).sum(axis=1, dtype=np.int8)\n",
    "full = values[Y]\n",
    "x = np.random.random((3000,))\n",
    "\n",
    "# x @ full @ x\n",
    " \n",
    "# vtable = values[np.transpose(np.unravel_index(np.arange(125), (5,5,5)))]\n",
    "# np.dot(np.concatenate([(vtable * np.bincount(row, x, minlength=125)[:, None]).sum(axis=0) for row in Ycmp]), x)\n",
    "\n",
    "# timeit('x @ full @ x', globals=globals(), number=100)\n",
    "# timeit.Timer('np.dot(np.concatenate([(vtable * np.bincount(row, x, minlength=125)[:, None]).sum(axis=0) for row in Ycmp]), x)', globals=globals(), number=100)\n"
   ]
  },
  {
   "cell_type": "code",
   "execution_count": 8,
   "metadata": {},
   "outputs": [
    {
     "ename": "ValueError",
     "evalue": "'list' argument must have no negative elements",
     "output_type": "error",
     "traceback": [
      "\u001b[0;31m---------------------------------------------------------------------------\u001b[0m\n\u001b[0;31mValueError\u001b[0m                                Traceback (most recent call last)",
      "In  \u001b[0;34m[8]\u001b[0m:\nLine \u001b[0;34m15\u001b[0m:    cc=np.dot(np.concatenate([(vtable * np.bincount(row, x, minlength=jj*jj*jj)[:, \u001b[34mNone\u001b[39;49;00m]).sum(axis=\u001b[34m0\u001b[39;49;00m) \u001b[34mfor\u001b[39;49;00m row \u001b[35min\u001b[39;49;00m Ycmp]), x)\n",
      "In  \u001b[0;34m[8]\u001b[0m:\nLine \u001b[0;34m15\u001b[0m:    cc=np.dot(np.concatenate([(vtable * np.bincount(row, x, minlength=jj*jj*jj)[:, \u001b[34mNone\u001b[39;49;00m]).sum(axis=\u001b[34m0\u001b[39;49;00m) \u001b[34mfor\u001b[39;49;00m row \u001b[35min\u001b[39;49;00m Ycmp]), x)\n",
      "File \u001b[0;34m<__array_function__ internals>\u001b[0m, in \u001b[0;32mbincount\u001b[0m:\nLine \u001b[0;34m5\u001b[0m:     \n",
      "\u001b[0;31mValueError\u001b[0m: 'list' argument must have no negative elements\n\u001b[0;31m---------------------------------------------------------------------------\u001b[0m"
     ]
    }
   ],
   "source": [
    "Y = np.random.randint(0,6,(3000, 3000),dtype = np.int8)\n",
    "i, j = np.triu_indices(3000, 1)\n",
    "Y[i, j] = Y[j, i]\n",
    "values=np.unique(Y)#\n",
    "jj=len(values)\n",
    "# values = np.array([0.3, 0.5, 0.6, 0.9, 2.0])\n",
    "# Ycmp = (np.reshape(Y, (1000, 3, 3000)) * np.array([jj*jj, jj, 1], dtype=np.int8)[None, :, None]).sum(axis=1, dtype=np.int8)\n",
    "Ycmp = (np.reshape(Y, (1000, 3, 3000)) * np.array([jj*jj, jj, 1], dtype=np.int8)[None, :, None]).sum(axis=1, dtype=np.int8)\n",
    "full = values[Y]\n",
    "x = np.random.random((3000,))\n",
    "\n",
    "c=x @ full @ x\n",
    "\n",
    "vtable = values[np.transpose(np.unravel_index(np.arange(jj*jj*jj), (jj,jj,jj)))]\n",
    "cc=np.dot(np.concatenate([(vtable * np.bincount(row, x, minlength=jj*jj*jj)[:, None]).sum(axis=0) for row in Ycmp]), x)\n",
    "c-cc"
   ]
  },
  {
   "cell_type": "code",
   "execution_count": 9,
   "metadata": {},
   "outputs": [
    {
     "ename": "ValueError",
     "evalue": "'list' argument must have no negative elements",
     "output_type": "error",
     "traceback": [
      "\u001b[0;31m---------------------------------------------------------------------------\u001b[0m\n\u001b[0;31mValueError\u001b[0m                                Traceback (most recent call last)",
      "In  \u001b[0;34m[9]\u001b[0m:\nLine \u001b[0;34m1\u001b[0m:     [(vtable * np.bincount(row, x, minlength=jj*jj*jj)[:, \u001b[34mNone\u001b[39;49;00m]).sum(axis=\u001b[34m0\u001b[39;49;00m) \u001b[34mfor\u001b[39;49;00m row \u001b[35min\u001b[39;49;00m Ycmp]\n",
      "In  \u001b[0;34m[9]\u001b[0m:\nLine \u001b[0;34m1\u001b[0m:     [(vtable * np.bincount(row, x, minlength=jj*jj*jj)[:, \u001b[34mNone\u001b[39;49;00m]).sum(axis=\u001b[34m0\u001b[39;49;00m) \u001b[34mfor\u001b[39;49;00m row \u001b[35min\u001b[39;49;00m Ycmp]\n",
      "File \u001b[0;34m<__array_function__ internals>\u001b[0m, in \u001b[0;32mbincount\u001b[0m:\nLine \u001b[0;34m5\u001b[0m:     \n",
      "\u001b[0;31mValueError\u001b[0m: 'list' argument must have no negative elements\n\u001b[0;31m---------------------------------------------------------------------------\u001b[0m"
     ]
    }
   ],
   "source": [
    "[(vtable * np.bincount(row, x, minlength=jj*jj*jj)[:, None]).sum(axis=0) for row in Ycmp]"
   ]
  },
  {
   "cell_type": "code",
   "execution_count": null,
   "metadata": {},
   "outputs": [],
   "source": [
    "np.min(Ycmp)"
   ]
  },
  {
   "cell_type": "code",
   "execution_count": null,
   "metadata": {},
   "outputs": [],
   "source": []
  }
 ],
 "metadata": {
  "kernelspec": {
   "display_name": "xpython [conda env:py3] *",
   "language": "python",
   "name": "conda-env-py3-xpython"
  },
  "language_info": {
   "file_extension": ".py",
   "mimetype": "text/x-python",
   "name": "python",
   "version": "3.8.2"
  }
 },
 "nbformat": 4,
 "nbformat_minor": 4
}

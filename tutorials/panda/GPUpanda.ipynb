{
  "nbformat": 4,
  "nbformat_minor": 0,
  "metadata": {
    "kernelspec": {
      "name": "python3",
      "display_name": "Python 3"
    },
    "colab": {
      "name": "GPUpanda.ipynb",
      "provenance": [],
      "collapsed_sections": [],
      "machine_shape": "hm"
    },
    "accelerator": "GPU"
  },
  "cells": [
    {
      "cell_type": "markdown",
      "metadata": {
        "id": "7ms8V02e-BTo",
        "colab_type": "text"
      },
      "source": [
        "#Setup Environment, download and install latest packages"
      ]
    },
    {
      "cell_type": "code",
      "metadata": {
        "id": "IhYnmjJAQ0hV",
        "colab_type": "code",
        "colab": {}
      },
      "source": [
        "import os\n",
        "import s3fs\n",
        "import pandas as pd"
      ],
      "execution_count": 0,
      "outputs": []
    },
    {
      "cell_type": "code",
      "metadata": {
        "id": "Hy9qIokVch5e",
        "colab_type": "code",
        "outputId": "684d5571-3224-4f77-cd13-5a2c98d5b912",
        "colab": {
          "base_uri": "https://localhost:8080/",
          "height": 88
        }
      },
      "source": [
        "!nvcc --version"
      ],
      "execution_count": 0,
      "outputs": [
        {
          "output_type": "stream",
          "text": [
            "nvcc: NVIDIA (R) Cuda compiler driver\n",
            "Copyright (c) 2005-2019 NVIDIA Corporation\n",
            "Built on Sun_Jul_28_19:07:16_PDT_2019\n",
            "Cuda compilation tools, release 10.1, V10.1.243\n"
          ],
          "name": "stdout"
        }
      ]
    },
    {
      "cell_type": "code",
      "metadata": {
        "id": "tQWPPemHVIwo",
        "colab_type": "code",
        "colab": {}
      },
      "source": [
        "!pip install cupy-cuda101==7.4.0 ##version 7.4.0 and above required\n",
        "import cupy as cp\n",
        "# print(cp.__version__)\n",
        "!pip freeze | grep cupy"
      ],
      "execution_count": 0,
      "outputs": []
    },
    {
      "cell_type": "code",
      "metadata": {
        "id": "Z4OxfiDuyvI-",
        "colab_type": "code",
        "colab": {}
      },
      "source": [
        "!git clone --single-branch --branch add-gpupanda https://github.com/dcolinmorgan/netZooPy.git\n",
        "os.chdir('netZooPy')\n",
        "!pip install -e ./\n",
        "os.chdir('..')"
      ],
      "execution_count": 0,
      "outputs": []
    },
    {
      "cell_type": "code",
      "metadata": {
        "id": "JRD6IZwy9a0m",
        "colab_type": "code",
        "colab": {}
      },
      "source": [
        "import netZooPy\n",
        "from netZooPy.panda import Panda\n",
        "from netZooPy.lioness import Lioness\n",
        "from netZooPy.milipeed import Milipeed"
      ],
      "execution_count": 0,
      "outputs": []
    },
    {
      "cell_type": "markdown",
      "metadata": {
        "id": "kSCHseF0-ckz",
        "colab_type": "text"
      },
      "source": [
        "#Load test data"
      ]
    },
    {
      "cell_type": "code",
      "metadata": {
        "id": "cqR_Oi5i1-DY",
        "colab_type": "code",
        "colab": {}
      },
      "source": [
        "LCL_ppi=pd.read_csv('https://granddb.s3.amazonaws.com/cells/ppi/LCL_ppi.txt',sep='\\t',header=None)\n",
        "LCL_expression=pd.read_csv('https://granddb.s3.amazonaws.com/optPANDA/expression/Hugo_exp1_lcl.txt',sep='\\t',header=None)\n",
        "# LCL_motif=pd.read_csv('../Hugo_motifCellLine_reduced.txt')\n",
        "LCL_ppi.to_csv('../LCL_ppi.txt',sep='\\t',index=False)\n",
        "LCL_expression.to_csv('../Hugo_exp1_lcl.txt',sep='\\t',index=False)\n"
      ],
      "execution_count": 0,
      "outputs": []
    },
    {
      "cell_type": "code",
      "metadata": {
        "id": "3DwTcA_Thlvq",
        "colab_type": "code",
        "colab": {}
      },
      "source": [
        "# os.getcwd()\n",
        "expression_data='Hugo_exp1_lcl.txt'\n",
        "motif_data='Hugo_motifCellLine_reduced.txt'\n",
        "ppi_data='LCL_ppi.txt'"
      ],
      "execution_count": 0,
      "outputs": []
    },
    {
      "cell_type": "markdown",
      "metadata": {
        "id": "LZFixQqZ-fpc",
        "colab_type": "text"
      },
      "source": [
        "#Run Panda with GPU flag as 4th arguement"
      ]
    },
    {
      "cell_type": "code",
      "metadata": {
        "id": "SfG24aY4n5yr",
        "colab_type": "code",
        "outputId": "b0b4da62-619b-4989-9dba-c1bfe0815103",
        "colab": {
          "base_uri": "https://localhost:8080/",
          "height": 988
        }
      },
      "source": [
        "np.set_printoptions(precision=17)\n",
        "panda_obj = Panda(expression_data, motif_data, ppi_data,computing='gpu',save_tmp=False,save_memory = True, remove_missing=True, keep_expression_matrix = False,modeProcess = 'intersection')"
      ],
      "execution_count": 35,
      "outputs": [
        {
          "output_type": "stream",
          "text": [
            "Loading motif data ...\n",
            "  Elapsed time: 0.31 sec.\n",
            "Loading expression data ...\n",
            "Expression matrix: (27150, 127)\n",
            "  Elapsed time: 0.69 sec.\n",
            "Loading PPI data ...\n",
            "Number of PPIs: 85315\n",
            "  Elapsed time: 0.04 sec.\n",
            "(1000, 127)\n",
            "(27150, 127)\n",
            "Calculating coexpression network ...\n",
            "  Elapsed time: 0.02 sec.\n",
            "Creating motif network ...\n",
            "  Elapsed time: 0.50 sec.\n",
            "Creating PPI network ...\n",
            "  Elapsed time: 0.08 sec.\n",
            "Normalizing networks ...\n",
            "  Elapsed time: 0.06 sec.\n",
            "Clearing motif and ppi data, unique tfs, and gene names for speed\n",
            "Running GPU PANDA algorithm ...\n",
            "step: 0, hamming: 0.8135873745606481\n",
            "step: 1, hamming: 0.28784066641507783\n",
            "step: 2, hamming: 0.18948187205166064\n",
            "step: 3, hamming: 0.14761716864546812\n",
            "step: 4, hamming: 0.12336583880810298\n",
            "step: 5, hamming: 0.10634375670636508\n",
            "step: 6, hamming: 0.09285137142779426\n",
            "step: 7, hamming: 0.0813786407467249\n",
            "step: 8, hamming: 0.07126892739697534\n",
            "step: 9, hamming: 0.062227189395228276\n",
            "step: 10, hamming: 0.05411012736489582\n",
            "step: 11, hamming: 0.0468409544097808\n",
            "step: 12, hamming: 0.04036481108696945\n",
            "step: 13, hamming: 0.03463231464817814\n",
            "step: 14, hamming: 0.0295919060071256\n",
            "step: 15, hamming: 0.025188693160033117\n",
            "step: 16, hamming: 0.02136552491020739\n",
            "step: 17, hamming: 0.018064583542986262\n",
            "step: 18, hamming: 0.015229037013030354\n",
            "step: 19, hamming: 0.012804493427722833\n",
            "step: 20, hamming: 0.010739989024502333\n",
            "step: 21, hamming: 0.008988595556509273\n",
            "step: 22, hamming: 0.0075078186356514875\n",
            "step: 23, hamming: 0.006259616097113622\n",
            "step: 24, hamming: 0.005210322050843907\n",
            "step: 25, hamming: 0.004330403642642234\n",
            "step: 26, hamming: 0.003594164289269834\n",
            "step: 27, hamming: 0.002979381886343381\n",
            "step: 28, hamming: 0.0024669557792765954\n",
            "step: 29, hamming: 0.002040550896879001\n",
            "step: 30, hamming: 0.001686258512929978\n",
            "step: 31, hamming: 0.001392283900696007\n",
            "step: 32, hamming: 0.0011486603761740924\n",
            "step: 33, hamming: 0.0009469915838552143\n",
            "Running panda took: 0.16 seconds!\n"
          ],
          "name": "stdout"
        }
      ]
    },
    {
      "cell_type": "code",
      "metadata": {
        "id": "2dYomvB3vZof",
        "colab_type": "code",
        "outputId": "3d511c33-0d24-46df-a9f8-12e143fdb7c5",
        "colab": {
          "base_uri": "https://localhost:8080/",
          "height": 246
        }
      },
      "source": [
        "panda_obj.panda_network"
      ],
      "execution_count": 20,
      "outputs": [
        {
          "output_type": "execute_result",
          "data": {
            "text/plain": [
              "array([[-0.03623514, -0.37721497, -0.66448477, ..., -0.12913618,\n",
              "        -0.38537956, -0.05596422],\n",
              "       [-0.56214028, -0.46963516,  3.81788467, ..., -0.33114558,\n",
              "        -0.39505245, -0.32947978],\n",
              "       [-0.47617206, -0.71971956,  0.06179341, ..., -0.4638276 ,\n",
              "        -0.68612295, -0.30892306],\n",
              "       ...,\n",
              "       [-0.42148069,  6.87809483, -0.46459933, ..., -0.22443524,\n",
              "        -0.04630216, -0.21362787],\n",
              "       [-0.54025086, -0.3524037 , -0.08509087, ..., -0.47031052,\n",
              "        -0.14799138,  7.55255998],\n",
              "       [-0.63347332, -0.41438585, -0.31756216, ...,  0.01973904,\n",
              "        -0.17423762, -0.29786672]])"
            ]
          },
          "metadata": {
            "tags": []
          },
          "execution_count": 20
        }
      ]
    },
    {
      "cell_type": "code",
      "metadata": {
        "id": "xhpThK_N9a1q",
        "colab_type": "code",
        "colab": {
          "base_uri": "https://localhost:8080/",
          "height": 35
        },
        "outputId": "2bdd83e2-440f-4a7d-91e2-4f7325f1bc7f"
      },
      "source": [
        "panda_obj.panda_network.shape"
      ],
      "execution_count": 21,
      "outputs": [
        {
          "output_type": "execute_result",
          "data": {
            "text/plain": [
              "(652, 1000)"
            ]
          },
          "metadata": {
            "tags": []
          },
          "execution_count": 21
        }
      ]
    },
    {
      "cell_type": "code",
      "metadata": {
        "id": "T7Jls2AZAMxf",
        "colab_type": "code",
        "colab": {
          "base_uri": "https://localhost:8080/",
          "height": 35
        },
        "outputId": "517b20c4-6c99-4eaa-c795-76ac5130cc47"
      },
      "source": [
        "panda_obj.panda_network[1,1]"
      ],
      "execution_count": 36,
      "outputs": [
        {
          "output_type": "execute_result",
          "data": {
            "text/plain": [
              "array(-0.46963516199079375)"
            ]
          },
          "metadata": {
            "tags": []
          },
          "execution_count": 36
        }
      ]
    },
    {
      "cell_type": "code",
      "metadata": {
        "id": "51D6qmUFA4lZ",
        "colab_type": "code",
        "colab": {}
      },
      "source": [
        ""
      ],
      "execution_count": 0,
      "outputs": []
    }
  ]
}
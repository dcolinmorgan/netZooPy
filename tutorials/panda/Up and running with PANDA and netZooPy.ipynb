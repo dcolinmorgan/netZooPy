{
 "cells": [
  {
   "cell_type": "markdown",
   "metadata": {},
   "source": [
    "# Up and running with PANDA and netZooPy"
   ]
  },
  {
   "cell_type": "markdown",
   "metadata": {},
   "source": [
    "Author : Daniel Morgan"
   ]
  },
  {
   "cell_type": "markdown",
   "metadata": {},
   "source": [
    "Regulatory network reconstruction is a fundamental problem in computational biology. There are significant limitations to such reconstruction using individual datasets, and increasingly people attempt to construct networks using multiple, independent datasets obtained from complementary sources, but methods for this integration are lacking. We developed PANDA (Passing Attributes between Networks for Data Assimilation), a message-passing model using multiple sources of information to predict regulatory relationships, and used it to integrate protein-protein interaction, gene expression, and sequence motif data to reconstruct genome-wide, condition-specific regulatory networks in yeast as a model. The resulting networks were not only more accurate than those produced using individual data sets and other existing methods, but they also captured information regarding specific biological mechanisms and pathways that were missed using other methodologies. PANDA is scalable to higher eukaryotes, applicable to specific tissue or cell type data and conceptually generalizable to include a variety of regulatory, interaction, expression, and other genome-scale data.\n",
    "\n",
    "Glass K, Huttenhower C, Quackenbush J, Yuan GC. Passing Messages Between Biological Networks to Refine Predicted Interactions, PLoS One, 2013 May 31;8(5):e64832"
   ]
  },
  {
   "cell_type": "code",
   "execution_count": 5,
   "metadata": {},
   "outputs": [
    {
     "data": {
      "text/html": [
       "<img src=\"https://journals.plos.org/plosone/article/figure/image?size=large&id=info:doi/10.1371/journal.pone.0064832.g001\" width=\"500\" height=\"500\"/>"
      ],
      "text/plain": [
       "<IPython.core.display.Image object>"
      ]
     },
     "execution_count": 5,
     "metadata": {},
     "output_type": "execute_result"
    }
   ],
   "source": [
    "from IPython.display import Image\n",
    "from IPython.core.display import HTML\n",
    "Image(url= \"https://journals.plos.org/plosone/article/figure/image?size=large&id=info:doi/10.1371/journal.pone.0064832.g001\", width=500, height=500)"
   ]
  },
  {
   "cell_type": "markdown",
   "metadata": {},
   "source": [
    "# Installation and Setup"
   ]
  },
  {
   "cell_type": "code",
   "execution_count": null,
   "metadata": {},
   "outputs": [],
   "source": [
    "%%bash\n",
    "cd ~\n",
    "git clone https://github.com/netZoo/netZooPy.git\n",
    "cd netZooPy\n",
    "pip3 install -e ."
   ]
  },
  {
   "cell_type": "code",
   "execution_count": 14,
   "metadata": {},
   "outputs": [
    {
     "data": {
      "text/plain": [
       "'/Users/redmo'"
      ]
     },
     "execution_count": 14,
     "metadata": {},
     "output_type": "execute_result"
    }
   ],
   "source": [
    "from netZooPy.panda.panda import Panda\n",
    "import pandas as pd\n",
    "import matplotlib.pyplot as plt\n",
    "import os\n",
    "os.getcwd()"
   ]
  },
  {
   "cell_type": "markdown",
   "metadata": {},
   "source": [
    "# Parameter Setting & Exploring the Data"
   ]
  },
  {
   "cell_type": "markdown",
   "metadata": {},
   "source": [
    "First, we start by setting the path to the 1) motif prior network, 2) the gene expression data, and 3) the ppi network data.\n",
    "The motif prior network is typically a TF-by-gene binary matrix where 1 indicates the presence of sequence (motif) of a TF in the gene regulatory region and 0 otherwise.\n",
    "Gene expression data is typically a gene-by-sample matrix containing expression data.\n",
    "PPI network is a TF-by-TF binary matrix, where 1 indicates a physical interaction between two TFs and 0 otherwise.\n",
    "If two TFs are likely to binding, they are likely to form regulatory complexes for the same genes."
   ]
  },
  {
   "cell_type": "markdown",
   "metadata": {},
   "source": [
    "*n.b. Note that unlike implementations in other languages, this python implementation normalizes each input to avoid biases from platform"
   ]
  },
  {
   "cell_type": "code",
   "execution_count": 28,
   "metadata": {},
   "outputs": [],
   "source": [
    "expression_data='netZooPy/tests/ToyData/ToyExpressionData.txt'\n",
    "motif_data='netZooPy/tests/ToyData/ToyMotifData.txt'\n",
    "ppi_data='netZooPy/tests/ToyData/ToyPPIData.txt'\n",
    "panda_output='netZooPy/tests/panda/output_panda.txt'"
   ]
  },
  {
   "cell_type": "code",
   "execution_count": 16,
   "metadata": {},
   "outputs": [
    {
     "data": {
      "text/plain": [
       "(1000, 51)"
      ]
     },
     "execution_count": 16,
     "metadata": {},
     "output_type": "execute_result"
    }
   ],
   "source": [
    "pd.read_csv(expression_data,sep=\"\\t\", header=None).shape"
   ]
  },
  {
   "cell_type": "markdown",
   "metadata": {},
   "source": [
    "There are 1000 genes and 51 samples in our toy data. This is your novel input. The remaining files are known interaction lists."
   ]
  },
  {
   "cell_type": "code",
   "execution_count": 17,
   "metadata": {},
   "outputs": [
    {
     "data": {
      "text/plain": [
       "87"
      ]
     },
     "execution_count": 17,
     "metadata": {},
     "output_type": "execute_result"
    }
   ],
   "source": [
    "motif_data=pd.read_csv(motif_data,sep=\"\\t\",header=None)\n",
    "motif_data[0].unique().size"
   ]
  },
  {
   "cell_type": "code",
   "execution_count": 18,
   "metadata": {},
   "outputs": [
    {
     "data": {
      "text/plain": [
       "913"
      ]
     },
     "execution_count": 18,
     "metadata": {},
     "output_type": "execute_result"
    }
   ],
   "source": [
    "motif_data[1].unique().size"
   ]
  },
  {
   "cell_type": "markdown",
   "metadata": {},
   "source": [
    "Since the first column is TF, you thus have 87 TF and 913 genes are returned from the second column, with their interaction weights in the third column (motif_data[2]). Now lets check out the ppi data, another interaction list with three columns, with 238 interactions between the TF."
   ]
  },
  {
   "cell_type": "code",
   "execution_count": 19,
   "metadata": {},
   "outputs": [
    {
     "data": {
      "text/plain": [
       "(238, 3)"
      ]
     },
     "execution_count": 19,
     "metadata": {},
     "output_type": "execute_result"
    }
   ],
   "source": [
    "ppi_data=pd.read_csv(ppi_data,sep=\"\\t\",header=None)\n",
    "ppi_data.shape"
   ]
  },
  {
   "cell_type": "markdown",
   "metadata": {},
   "source": [
    "# Calling PANDA"
   ]
  },
  {
   "cell_type": "markdown",
   "metadata": {},
   "source": [
    "One can chose to run in terminal simply by pointing to the input files"
   ]
  },
  {
   "cell_type": "code",
   "execution_count": null,
   "metadata": {},
   "outputs": [],
   "source": [
    "%%bash\n",
    "cd netZooPy\n",
    "pip3 install -e .\n",
    "python netZooPy/panda/run_panda.py -e netZooPy/tests/ToyData/ToyExpressionData.txt -m netZooPy/tests/ToyData/ToyMotifData.txt -p netZooPy/tests/ToyData/ToyPPIData.txt -f True -o test_panda.txt"
   ]
  },
  {
   "cell_type": "markdown",
   "metadata": {},
   "source": [
    "Alternatively one can continue running in Jupyter."
   ]
  },
  {
   "cell_type": "code",
   "execution_count": 41,
   "metadata": {},
   "outputs": [
    {
     "name": "stdout",
     "output_type": "stream",
     "text": [
      "Loading motif data ...\n",
      "Unique TFs: 87\n",
      "  Elapsed time: 0.02 sec.\n",
      "Loading expression data ...\n",
      "Expression matrix: (1000, 50)\n",
      "  Elapsed time: 0.01 sec.\n",
      "Loading PPI data ...\n",
      "Number of PPIs: 238\n",
      "  Elapsed time: 0.00 sec.\n",
      "Calculating coexpression network ...\n",
      "  Elapsed time: 0.01 sec.\n",
      "Creating motif network ...\n",
      "  Elapsed time: 0.01 sec.\n",
      "Creating PPI network ...\n",
      "  Elapsed time: 0.00 sec.\n",
      "Normalizing networks ...\n",
      "  Elapsed time: 0.03 sec.\n",
      "Saving expression matrix and normalized networks ...\n",
      "  Elapsed time: 0.00 sec.\n",
      "Running PANDA algorithm ...\n",
      "step: 0, hamming: 0.7189662815459754\n",
      "step: 1, hamming: 0.3899291546314954\n",
      "step: 2, hamming: 0.40236683889692043\n",
      "step: 3, hamming: 0.4005209618112847\n",
      "step: 4, hamming: 0.38904060163854676\n"
     ]
    },
    {
     "name": "stderr",
     "output_type": "stream",
     "text": [
      "/Users/redmo/opt/anaconda3/lib/python3.7/site-packages/scipy/stats/stats.py:2315: RuntimeWarning: divide by zero encountered in true_divide\n",
      "  return (a - mns) / sstd\n"
     ]
    },
    {
     "name": "stdout",
     "output_type": "stream",
     "text": [
      "step: 5, hamming: 0.37050927774796627\n",
      "step: 6, hamming: 0.346813714233211\n",
      "step: 7, hamming: 0.3197200219092709\n",
      "step: 8, hamming: 0.2908059296381211\n",
      "step: 9, hamming: 0.2614076747991081\n",
      "step: 10, hamming: 0.2325667493310834\n",
      "step: 11, hamming: 0.2050473463652485\n",
      "step: 12, hamming: 0.17936756642941445\n",
      "step: 13, hamming: 0.15582820203948794\n",
      "step: 14, hamming: 0.13456406927299874\n",
      "step: 15, hamming: 0.11558769817777673\n",
      "step: 16, hamming: 0.09882404071423921\n",
      "step: 17, hamming: 0.08414234823461533\n",
      "step: 18, hamming: 0.07137863350560042\n",
      "step: 19, hamming: 0.060352597421148776\n",
      "step: 20, hamming: 0.05087989460076123\n",
      "step: 21, hamming: 0.04278075541305479\n",
      "step: 22, hamming: 0.03588517917018383\n",
      "step: 23, hamming: 0.030036230563844166\n",
      "step: 24, hamming: 0.025091497107547298\n",
      "step: 25, hamming: 0.020923570455323975\n",
      "step: 26, hamming: 0.017419753654909373\n",
      "step: 27, hamming: 0.014481280791973365\n",
      "step: 28, hamming: 0.012022271977958703\n",
      "step: 29, hamming: 0.009968530625360777\n",
      "step: 30, hamming: 0.008256316822080974\n",
      "step: 31, hamming: 0.006831152395943065\n",
      "step: 32, hamming: 0.005646666396278008\n",
      "step: 33, hamming: 0.004663540428062877\n",
      "step: 34, hamming: 0.003848547806823678\n",
      "step: 35, hamming: 0.0031736932436243577\n",
      "step: 36, hamming: 0.0026154528841061684\n",
      "step: 37, hamming: 0.002154108616081292\n",
      "step: 38, hamming: 0.001773167966481044\n",
      "step: 39, hamming: 0.001458863538377889\n",
      "step: 40, hamming: 0.001199723701073242\n",
      "step: 41, hamming: 0.0009862051158053527\n",
      "Running panda took: 0.91 seconds!\n",
      "Saving PANDA network to netZooPy/tests/panda/output_panda.txt ...\n",
      "  Elapsed time: 0.21 sec.\n"
     ]
    }
   ],
   "source": [
    "expression_data='netZooPy/tests/ToyData/ToyExpressionData.txt'\n",
    "motif_data='netZooPy/tests/ToyData/ToyMotifData.txt'\n",
    "ppi_data='netZooPy/tests/ToyData/ToyPPIData.txt'\n",
    "panda_obj = Panda(expression_data, motif_data, ppi_data, save_tmp=True,save_memory = False, remove_missing=False, keep_expression_matrix = False)\n",
    "panda_obj.save_panda_results(panda_output)"
   ]
  },
  {
   "cell_type": "markdown",
   "metadata": {},
   "source": [
    "Or on another toy dataset"
   ]
  },
  {
   "cell_type": "code",
   "execution_count": null,
   "metadata": {},
   "outputs": [],
   "source": [
    "expression_data='netZooPy/tests/ToyData/expressionTest.txt'\n",
    "motif_data='netZooPy/tests/ToyData/motifTest.txt'\n",
    "ppi_data='netZooPy/tests/ToyData/ppiTest.txt'\n",
    "\n",
    "panda_obj = Panda(expression_data, motif_data, ppi_data)\n",
    "panda_obj.save_panda_results(panda_output)"
   ]
  },
  {
   "cell_type": "markdown",
   "metadata": {},
   "source": [
    "Basic follow up analysis is also possible, such as degree calculation per gene"
   ]
  },
  {
   "cell_type": "code",
   "execution_count": 31,
   "metadata": {},
   "outputs": [
    {
     "data": {
      "text/html": [
       "<div>\n",
       "<style scoped>\n",
       "    .dataframe tbody tr th:only-of-type {\n",
       "        vertical-align: middle;\n",
       "    }\n",
       "\n",
       "    .dataframe tbody tr th {\n",
       "        vertical-align: top;\n",
       "    }\n",
       "\n",
       "    .dataframe thead th {\n",
       "        text-align: right;\n",
       "    }\n",
       "</style>\n",
       "<table border=\"1\" class=\"dataframe\">\n",
       "  <thead>\n",
       "    <tr style=\"text-align: right;\">\n",
       "      <th></th>\n",
       "      <th>force</th>\n",
       "    </tr>\n",
       "    <tr>\n",
       "      <th>gene</th>\n",
       "      <th></th>\n",
       "    </tr>\n",
       "  </thead>\n",
       "  <tbody>\n",
       "    <tr>\n",
       "      <td>ENSG00000000003</td>\n",
       "      <td>-59.850068</td>\n",
       "    </tr>\n",
       "    <tr>\n",
       "      <td>ENSG00000000005</td>\n",
       "      <td>-57.343887</td>\n",
       "    </tr>\n",
       "    <tr>\n",
       "      <td>ENSG00000000419</td>\n",
       "      <td>-93.568952</td>\n",
       "    </tr>\n",
       "    <tr>\n",
       "      <td>ENSG00000000457</td>\n",
       "      <td>-13.318462</td>\n",
       "    </tr>\n",
       "    <tr>\n",
       "      <td>ENSG00000000460</td>\n",
       "      <td>-104.877478</td>\n",
       "    </tr>\n",
       "    <tr>\n",
       "      <td>...</td>\n",
       "      <td>...</td>\n",
       "    </tr>\n",
       "    <tr>\n",
       "      <td>ENSG00000067066</td>\n",
       "      <td>234.652903</td>\n",
       "    </tr>\n",
       "    <tr>\n",
       "      <td>ENSG00000067082</td>\n",
       "      <td>-55.275136</td>\n",
       "    </tr>\n",
       "    <tr>\n",
       "      <td>ENSG00000067113</td>\n",
       "      <td>29.712915</td>\n",
       "    </tr>\n",
       "    <tr>\n",
       "      <td>ENSG00000067141</td>\n",
       "      <td>238.303083</td>\n",
       "    </tr>\n",
       "    <tr>\n",
       "      <td>ENSG00000067167</td>\n",
       "      <td>-182.316079</td>\n",
       "    </tr>\n",
       "  </tbody>\n",
       "</table>\n",
       "<p>1000 rows × 1 columns</p>\n",
       "</div>"
      ],
      "text/plain": [
       "                      force\n",
       "gene                       \n",
       "ENSG00000000003  -59.850068\n",
       "ENSG00000000005  -57.343887\n",
       "ENSG00000000419  -93.568952\n",
       "ENSG00000000457  -13.318462\n",
       "ENSG00000000460 -104.877478\n",
       "...                     ...\n",
       "ENSG00000067066  234.652903\n",
       "ENSG00000067082  -55.275136\n",
       "ENSG00000067113   29.712915\n",
       "ENSG00000067141  238.303083\n",
       "ENSG00000067167 -182.316079\n",
       "\n",
       "[1000 rows x 1 columns]"
      ]
     },
     "execution_count": 31,
     "metadata": {},
     "output_type": "execute_result"
    }
   ],
   "source": [
    "panda_obj.return_panda_indegree()"
   ]
  },
  {
   "cell_type": "code",
   "execution_count": 38,
   "metadata": {},
   "outputs": [
    {
     "data": {
      "text/html": [
       "<div>\n",
       "<style scoped>\n",
       "    .dataframe tbody tr th:only-of-type {\n",
       "        vertical-align: middle;\n",
       "    }\n",
       "\n",
       "    .dataframe tbody tr th {\n",
       "        vertical-align: top;\n",
       "    }\n",
       "\n",
       "    .dataframe thead th {\n",
       "        text-align: right;\n",
       "    }\n",
       "</style>\n",
       "<table border=\"1\" class=\"dataframe\">\n",
       "  <thead>\n",
       "    <tr style=\"text-align: right;\">\n",
       "      <th></th>\n",
       "      <th>tf</th>\n",
       "      <th>gene</th>\n",
       "      <th>motif</th>\n",
       "      <th>force</th>\n",
       "    </tr>\n",
       "  </thead>\n",
       "  <tbody>\n",
       "    <tr>\n",
       "      <td>0</td>\n",
       "      <td>AHR</td>\n",
       "      <td>ENSG00000000003</td>\n",
       "      <td>0.0</td>\n",
       "      <td>-0.8172097193685302</td>\n",
       "    </tr>\n",
       "    <tr>\n",
       "      <td>1</td>\n",
       "      <td>AIRE</td>\n",
       "      <td>ENSG00000000003</td>\n",
       "      <td>0.0</td>\n",
       "      <td>-0.22175696013345828</td>\n",
       "    </tr>\n",
       "    <tr>\n",
       "      <td>2</td>\n",
       "      <td>ALX1</td>\n",
       "      <td>ENSG00000000003</td>\n",
       "      <td>0.0</td>\n",
       "      <td>0.06146987396574343</td>\n",
       "    </tr>\n",
       "    <tr>\n",
       "      <td>3</td>\n",
       "      <td>ALX3</td>\n",
       "      <td>ENSG00000000003</td>\n",
       "      <td>0.0</td>\n",
       "      <td>0.10342863303104977</td>\n",
       "    </tr>\n",
       "    <tr>\n",
       "      <td>4</td>\n",
       "      <td>ALX4</td>\n",
       "      <td>ENSG00000000003</td>\n",
       "      <td>0.0</td>\n",
       "      <td>0.04836376022878871</td>\n",
       "    </tr>\n",
       "    <tr>\n",
       "      <td>...</td>\n",
       "      <td>...</td>\n",
       "      <td>...</td>\n",
       "      <td>...</td>\n",
       "      <td>...</td>\n",
       "    </tr>\n",
       "    <tr>\n",
       "      <td>660995</td>\n",
       "      <td>ZNF784</td>\n",
       "      <td>ENSG00000067167</td>\n",
       "      <td>0.0</td>\n",
       "      <td>-0.3497773353282285</td>\n",
       "    </tr>\n",
       "    <tr>\n",
       "      <td>660996</td>\n",
       "      <td>ZSCAN10</td>\n",
       "      <td>ENSG00000067167</td>\n",
       "      <td>0.0</td>\n",
       "      <td>-0.55172380731339</td>\n",
       "    </tr>\n",
       "    <tr>\n",
       "      <td>660997</td>\n",
       "      <td>ZSCAN16</td>\n",
       "      <td>ENSG00000067167</td>\n",
       "      <td>0.0</td>\n",
       "      <td>-0.2982149560354192</td>\n",
       "    </tr>\n",
       "    <tr>\n",
       "      <td>660998</td>\n",
       "      <td>ZSCAN26</td>\n",
       "      <td>ENSG00000067167</td>\n",
       "      <td>0.0</td>\n",
       "      <td>-0.24178447785501178</td>\n",
       "    </tr>\n",
       "    <tr>\n",
       "      <td>660999</td>\n",
       "      <td>ZSCAN4</td>\n",
       "      <td>ENSG00000067167</td>\n",
       "      <td>0.0</td>\n",
       "      <td>-0.28243343659525477</td>\n",
       "    </tr>\n",
       "  </tbody>\n",
       "</table>\n",
       "<p>661000 rows × 4 columns</p>\n",
       "</div>"
      ],
      "text/plain": [
       "             tf             gene motif                 force\n",
       "0           AHR  ENSG00000000003   0.0   -0.8172097193685302\n",
       "1          AIRE  ENSG00000000003   0.0  -0.22175696013345828\n",
       "2          ALX1  ENSG00000000003   0.0   0.06146987396574343\n",
       "3          ALX3  ENSG00000000003   0.0   0.10342863303104977\n",
       "4          ALX4  ENSG00000000003   0.0   0.04836376022878871\n",
       "...         ...              ...   ...                   ...\n",
       "660995   ZNF784  ENSG00000067167   0.0   -0.3497773353282285\n",
       "660996  ZSCAN10  ENSG00000067167   0.0     -0.55172380731339\n",
       "660997  ZSCAN16  ENSG00000067167   0.0   -0.2982149560354192\n",
       "660998  ZSCAN26  ENSG00000067167   0.0  -0.24178447785501178\n",
       "660999   ZSCAN4  ENSG00000067167   0.0  -0.28243343659525477\n",
       "\n",
       "[661000 rows x 4 columns]"
      ]
     },
     "execution_count": 38,
     "metadata": {},
     "output_type": "execute_result"
    }
   ],
   "source": [
    "panda_obj.panda_results"
   ]
  },
  {
   "cell_type": "markdown",
   "metadata": {},
   "source": [
    "There is even basic plotting functionality"
   ]
  },
  {
   "cell_type": "code",
   "execution_count": 43,
   "metadata": {},
   "outputs": [
    {
     "data": {
      "image/png": "[encoded data removed]",
      "text/plain": [
       "<Figure size 432x288 with 1 Axes>"
      ]
     },
     "metadata": {},
     "output_type": "display_data"
    }
   ],
   "source": [
    "panda_obj.top_network_plot(top=35)"
   ]
  }
 ],
 "metadata": {
  "kernelspec": {
   "display_name": "Python 3",
   "language": "python",
   "name": "python3"
  },
  "language_info": {
   "codemirror_mode": {
    "name": "ipython",
    "version": 3
   },
   "file_extension": ".py",
   "mimetype": "text/x-python",
   "name": "python",
   "nbconvert_exporter": "python",
   "pygments_lexer": "ipython3",
   "version": "3.7.4"
  }
 },
 "nbformat": 4,
 "nbformat_minor": 4
}

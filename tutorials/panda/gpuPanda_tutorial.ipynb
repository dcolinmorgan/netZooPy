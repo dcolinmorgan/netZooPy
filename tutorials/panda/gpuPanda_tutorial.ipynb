{
  "nbformat": 4,
  "nbformat_minor": 0,
  "metadata": {
    "colab": {
      "name": "gpuPanda_tutorial.ipynb",
      "provenance": [],
      "authorship_tag": "ABX9TyMnScogwy+px4unrtn7hWCm",
      "include_colab_link": true
    },
    "kernelspec": {
      "name": "python3",
      "display_name": "Python 3"
    },
    "accelerator": "GPU"
  },
  "cells": [
    {
      "cell_type": "markdown",
      "metadata": {
        "id": "view-in-github",
        "colab_type": "text"
      },
      "source": [
        "<a href=\"https://colab.research.google.com/github/dcolinmorgan/netZooPy/blob/gpu-panda/gpuPanda_tutorial.ipynb\" target=\"_parent\"><img src=\"https://colab.research.google.com/assets/colab-badge.svg\" alt=\"Open In Colab\"/></a>"
      ]
    },
    {
      "cell_type": "markdown",
      "metadata": {
        "id": "S6C7PBz3e8Tb",
        "colab_type": "text"
      },
      "source": [
        "### 0.5: Change colab runtime type to \"GPU\""
      ]
    },
    {
      "cell_type": "markdown",
      "metadata": {
        "id": "CWHop1VSe8Fp",
        "colab_type": "text"
      },
      "source": [
        "#1. Setup Environment: download, install & import latest packages"
      ]
    },
    {
      "cell_type": "code",
      "metadata": {
        "id": "gGbB1syJekAh",
        "colab_type": "code",
        "colab": {}
      },
      "source": [
        "import os\n",
        "import s3fs\n",
        "import pandas as pd\n",
        "import numpy as np\n",
        "from psutil import *"
      ],
      "execution_count": 0,
      "outputs": []
    },
    {
      "cell_type": "code",
      "metadata": {
        "id": "ogmMRRhqewZq",
        "colab_type": "code",
        "colab": {
          "base_uri": "https://localhost:8080/",
          "height": 86
        },
        "outputId": "c9694227-1dbf-4e91-b262-f60ba06b1146"
      },
      "source": [
        "!nvcc --version"
      ],
      "execution_count": 4,
      "outputs": [
        {
          "output_type": "stream",
          "text": [
            "nvcc: NVIDIA (R) Cuda compiler driver\n",
            "Copyright (c) 2005-2019 NVIDIA Corporation\n",
            "Built on Sun_Jul_28_19:07:16_PDT_2019\n",
            "Cuda compilation tools, release 10.1, V10.1.243\n"
          ],
          "name": "stdout"
        }
      ]
    },
    {
      "cell_type": "markdown",
      "metadata": {
        "id": "8LtkmrxtfNXT",
        "colab_type": "text"
      },
      "source": [
        "###  \n",
        "##1.1 Configure cupy for installed Cuda version\n",
        "1.   use cuda version based on above release (*e.g.* release 10.1= cuda101)\n",
        "2.   install cupy version 7.4.0 or above \n",
        "\n"
      ]
    },
    {
      "cell_type": "code",
      "metadata": {
        "id": "Ix7nCFlZfOwr",
        "colab_type": "code",
        "colab": {
          "base_uri": "https://localhost:8080/",
          "height": 34
        },
        "outputId": "0ec54763-4cc4-47c3-ab51-7a872d7964ff"
      },
      "source": [
        "!pip install cupy-cuda101==7.4.0\n",
        "import cupy as cp\n",
        "# print(cp.__version__)\n",
        "!pip freeze | grep cupy"
      ],
      "execution_count": 12,
      "outputs": [
        {
          "output_type": "stream",
          "text": [
            "cupy-cuda101==7.4.0\n"
          ],
          "name": "stdout"
        }
      ]
    },
    {
      "cell_type": "code",
      "metadata": {
        "id": "x5-MkWXGfQuY",
        "colab_type": "code",
        "colab": {}
      },
      "source": [
        "!git clone --single-branch --branch gpu-panda https://github.com/dcolinmorgan/netZooPy.git\n",
        "os.chdir('netZooPy')\n",
        "!pip install -e .\n",
        "os.chdir('..')"
      ],
      "execution_count": 0,
      "outputs": []
    },
    {
      "cell_type": "code",
      "metadata": {
        "id": "k0h_SJjYf2O9",
        "colab_type": "code",
        "colab": {}
      },
      "source": [
        "import netZooPy\n",
        "from netZooPy.panda import Panda"
      ],
      "execution_count": 0,
      "outputs": []
    },
    {
      "cell_type": "markdown",
      "metadata": {
        "id": "eiMr4wpkgDy_",
        "colab_type": "text"
      },
      "source": [
        "#2. Load test data"
      ]
    },
    {
      "cell_type": "code",
      "metadata": {
        "id": "q7s_Ea6hf6ov",
        "colab_type": "code",
        "colab": {}
      },
      "source": [
        "LCL_ppi=pd.read_csv('https://granddb.s3.amazonaws.com/cells/ppi/LCL_ppi.txt',sep='\\t',header=None)\n",
        "LCL_expression=pd.read_csv('https://granddb.s3.amazonaws.com/optPANDA/expression/Hugo_exp1_lcl.txt',sep='\\t',header=None)\n",
        "# LCL_motif=pd.read_csv('../Hugo_motifCellLine_reduced.txt')\n",
        "LCL_ppi.to_csv('LCL_ppi.txt',sep='\\t',index=False)\n",
        "LCL_expression.to_csv('Hugo_exp1_lcl.txt',sep='\\t',index=False)\n"
      ],
      "execution_count": 0,
      "outputs": []
    },
    {
      "cell_type": "code",
      "metadata": {
        "id": "M5JqR6R4f9zE",
        "colab_type": "code",
        "colab": {}
      },
      "source": [
        "# os.getcwd()\n",
        "expression_data='Hugo_exp1_lcl.txt'\n",
        "motif_data='Hugo_motifCellLine_reduced.txt'\n",
        "ppi_data='LCL_ppi.txt'\n"
      ],
      "execution_count": 0,
      "outputs": []
    },
    {
      "cell_type": "markdown",
      "metadata": {
        "id": "c6ydrGxdgI9B",
        "colab_type": "text"
      },
      "source": [
        "#3. Run Panda with GPU flag as 4th arguement"
      ]
    },
    {
      "cell_type": "code",
      "metadata": {
        "id": "yqZCQubJf_By",
        "colab_type": "code",
        "colab": {
          "base_uri": "https://localhost:8080/",
          "height": 972
        },
        "outputId": "15783a3b-06f7-494e-faa4-3bebbb0a258c"
      },
      "source": [
        "np.set_printoptions(precision=17)\n",
        "panda_obj = Panda(expression_data, motif_data, ppi_data,computing='gpu',save_tmp=False,save_memory = True, remove_missing=True, keep_expression_matrix = False,modeProcess = 'intersection')"
      ],
      "execution_count": 23,
      "outputs": [
        {
          "output_type": "stream",
          "text": [
            "Loading motif data ...\n",
            "  Elapsed time: 0.30 sec.\n",
            "Loading expression data ...\n",
            "Expression matrix: (27150, 127)\n",
            "  Elapsed time: 0.66 sec.\n",
            "Loading PPI data ...\n",
            "Number of PPIs: 85315\n",
            "  Elapsed time: 0.03 sec.\n",
            "(1000, 127)\n",
            "(27150, 127)\n",
            "Calculating coexpression network ...\n",
            "  Elapsed time: 0.01 sec.\n",
            "Creating motif network ...\n",
            "  Elapsed time: 0.42 sec.\n",
            "Creating PPI network ...\n",
            "  Elapsed time: 0.06 sec.\n",
            "Normalizing networks ...\n",
            "  Elapsed time: 0.05 sec.\n",
            "Clearing motif and ppi data, unique tfs, and gene names for speed\n",
            "Running GPU PANDA algorithm ...\n",
            "step: 0, hamming: 0.8135873745606481\n",
            "step: 1, hamming: 0.28784066641507783\n",
            "step: 2, hamming: 0.18948187205166064\n",
            "step: 3, hamming: 0.14761716864546812\n",
            "step: 4, hamming: 0.12336583880810298\n",
            "step: 5, hamming: 0.10634375670636508\n",
            "step: 6, hamming: 0.09285137142779426\n",
            "step: 7, hamming: 0.0813786407467249\n",
            "step: 8, hamming: 0.07126892739697534\n",
            "step: 9, hamming: 0.062227189395228276\n",
            "step: 10, hamming: 0.05411012736489582\n",
            "step: 11, hamming: 0.0468409544097808\n",
            "step: 12, hamming: 0.04036481108696945\n",
            "step: 13, hamming: 0.03463231464817814\n",
            "step: 14, hamming: 0.0295919060071256\n",
            "step: 15, hamming: 0.025188693160033117\n",
            "step: 16, hamming: 0.02136552491020739\n",
            "step: 17, hamming: 0.018064583542986262\n",
            "step: 18, hamming: 0.015229037013030354\n",
            "step: 19, hamming: 0.012804493427722833\n",
            "step: 20, hamming: 0.010739989024502333\n",
            "step: 21, hamming: 0.008988595556509273\n",
            "step: 22, hamming: 0.0075078186356514875\n",
            "step: 23, hamming: 0.006259616097113622\n",
            "step: 24, hamming: 0.005210322050843907\n",
            "step: 25, hamming: 0.004330403642642234\n",
            "step: 26, hamming: 0.003594164289269834\n",
            "step: 27, hamming: 0.002979381886343381\n",
            "step: 28, hamming: 0.0024669557792765954\n",
            "step: 29, hamming: 0.002040550896879001\n",
            "step: 30, hamming: 0.001686258512929978\n",
            "step: 31, hamming: 0.001392283900696007\n",
            "step: 32, hamming: 0.0011486603761740924\n",
            "step: 33, hamming: 0.0009469915838552143\n",
            "Running panda took: 0.15 seconds!\n"
          ],
          "name": "stdout"
        }
      ]
    },
    {
      "cell_type": "code",
      "metadata": {
        "id": "Q_U3d7r2hARA",
        "colab_type": "code",
        "colab": {
          "base_uri": "https://localhost:8080/",
          "height": 34
        },
        "outputId": "062bbddb-2363-498e-df43-0381f1754783"
      },
      "source": [
        "panda_obj.panda_network[1,1]"
      ],
      "execution_count": 24,
      "outputs": [
        {
          "output_type": "execute_result",
          "data": {
            "text/plain": [
              "array(-0.46963516199079375)"
            ]
          },
          "metadata": {
            "tags": []
          },
          "execution_count": 24
        }
      ]
    },
    {
      "cell_type": "code",
      "metadata": {
        "id": "rFGHQeB3gPQT",
        "colab_type": "code",
        "colab": {
          "base_uri": "https://localhost:8080/",
          "height": 34
        },
        "outputId": "bfce6e85-1305-451a-e474-db9c610bc3a6"
      },
      "source": [
        "panda_obj.panda_network.shape"
      ],
      "execution_count": 25,
      "outputs": [
        {
          "output_type": "execute_result",
          "data": {
            "text/plain": [
              "(652, 1000)"
            ]
          },
          "metadata": {
            "tags": []
          },
          "execution_count": 25
        }
      ]
    },
    {
      "cell_type": "code",
      "metadata": {
        "id": "_BPEYAGrhB5L",
        "colab_type": "code",
        "colab": {
          "base_uri": "https://localhost:8080/",
          "height": 295
        },
        "outputId": "f2c81295-ef9d-4045-d022-01ab9078149e"
      },
      "source": [
        "!nvidia-smi"
      ],
      "execution_count": 27,
      "outputs": [
        {
          "output_type": "stream",
          "text": [
            "Mon Apr 27 02:43:14 2020       \n",
            "+-----------------------------------------------------------------------------+\n",
            "| NVIDIA-SMI 440.64.00    Driver Version: 418.67       CUDA Version: 10.1     |\n",
            "|-------------------------------+----------------------+----------------------+\n",
            "| GPU  Name        Persistence-M| Bus-Id        Disp.A | Volatile Uncorr. ECC |\n",
            "| Fan  Temp  Perf  Pwr:Usage/Cap|         Memory-Usage | GPU-Util  Compute M. |\n",
            "|===============================+======================+======================|\n",
            "|   0  Tesla P100-PCIE...  Off  | 00000000:00:04.0 Off |                    0 |\n",
            "| N/A   38C    P0    36W / 250W |    381MiB / 16280MiB |      0%      Default |\n",
            "+-------------------------------+----------------------+----------------------+\n",
            "                                                                               \n",
            "+-----------------------------------------------------------------------------+\n",
            "| Processes:                                                       GPU Memory |\n",
            "|  GPU       PID   Type   Process name                             Usage      |\n",
            "|=============================================================================|\n",
            "+-----------------------------------------------------------------------------+\n"
          ],
          "name": "stdout"
        }
      ]
    },
    {
      "cell_type": "code",
      "metadata": {
        "id": "ZH8EQvZ2hEtV",
        "colab_type": "code",
        "colab": {
          "base_uri": "https://localhost:8080/",
          "height": 975
        },
        "outputId": "b5e1c722-fa49-4909-9793-970f2d09a199"
      },
      "source": [
        "!cat /proc/cpuinfo"
      ],
      "execution_count": 28,
      "outputs": [
        {
          "output_type": "stream",
          "text": [
            "processor\t: 0\n",
            "vendor_id\t: GenuineIntel\n",
            "cpu family\t: 6\n",
            "model\t\t: 85\n",
            "model name\t: Intel(R) Xeon(R) CPU @ 2.00GHz\n",
            "stepping\t: 3\n",
            "microcode\t: 0x1\n",
            "cpu MHz\t\t: 2000.158\n",
            "cache size\t: 39424 KB\n",
            "physical id\t: 0\n",
            "siblings\t: 2\n",
            "core id\t\t: 0\n",
            "cpu cores\t: 1\n",
            "apicid\t\t: 0\n",
            "initial apicid\t: 0\n",
            "fpu\t\t: yes\n",
            "fpu_exception\t: yes\n",
            "cpuid level\t: 13\n",
            "wp\t\t: yes\n",
            "flags\t\t: fpu vme de pse tsc msr pae mce cx8 apic sep mtrr pge mca cmov pat pse36 clflush mmx fxsr sse sse2 ss ht syscall nx pdpe1gb rdtscp lm constant_tsc rep_good nopl xtopology nonstop_tsc cpuid tsc_known_freq pni pclmulqdq ssse3 fma cx16 pcid sse4_1 sse4_2 x2apic movbe popcnt aes xsave avx f16c rdrand hypervisor lahf_lm abm 3dnowprefetch invpcid_single ssbd ibrs ibpb stibp fsgsbase tsc_adjust bmi1 hle avx2 smep bmi2 erms invpcid rtm mpx avx512f avx512dq rdseed adx smap clflushopt clwb avx512cd avx512bw avx512vl xsaveopt xsavec xgetbv1 xsaves arat md_clear arch_capabilities\n",
            "bugs\t\t: cpu_meltdown spectre_v1 spectre_v2 spec_store_bypass l1tf mds swapgs taa itlb_multihit\n",
            "bogomips\t: 4000.31\n",
            "clflush size\t: 64\n",
            "cache_alignment\t: 64\n",
            "address sizes\t: 46 bits physical, 48 bits virtual\n",
            "power management:\n",
            "\n",
            "processor\t: 1\n",
            "vendor_id\t: GenuineIntel\n",
            "cpu family\t: 6\n",
            "model\t\t: 85\n",
            "model name\t: Intel(R) Xeon(R) CPU @ 2.00GHz\n",
            "stepping\t: 3\n",
            "microcode\t: 0x1\n",
            "cpu MHz\t\t: 2000.158\n",
            "cache size\t: 39424 KB\n",
            "physical id\t: 0\n",
            "siblings\t: 2\n",
            "core id\t\t: 0\n",
            "cpu cores\t: 1\n",
            "apicid\t\t: 1\n",
            "initial apicid\t: 1\n",
            "fpu\t\t: yes\n",
            "fpu_exception\t: yes\n",
            "cpuid level\t: 13\n",
            "wp\t\t: yes\n",
            "flags\t\t: fpu vme de pse tsc msr pae mce cx8 apic sep mtrr pge mca cmov pat pse36 clflush mmx fxsr sse sse2 ss ht syscall nx pdpe1gb rdtscp lm constant_tsc rep_good nopl xtopology nonstop_tsc cpuid tsc_known_freq pni pclmulqdq ssse3 fma cx16 pcid sse4_1 sse4_2 x2apic movbe popcnt aes xsave avx f16c rdrand hypervisor lahf_lm abm 3dnowprefetch invpcid_single ssbd ibrs ibpb stibp fsgsbase tsc_adjust bmi1 hle avx2 smep bmi2 erms invpcid rtm mpx avx512f avx512dq rdseed adx smap clflushopt clwb avx512cd avx512bw avx512vl xsaveopt xsavec xgetbv1 xsaves arat md_clear arch_capabilities\n",
            "bugs\t\t: cpu_meltdown spectre_v1 spectre_v2 spec_store_bypass l1tf mds swapgs taa itlb_multihit\n",
            "bogomips\t: 4000.31\n",
            "clflush size\t: 64\n",
            "cache_alignment\t: 64\n",
            "address sizes\t: 46 bits physical, 48 bits virtual\n",
            "power management:\n",
            "\n"
          ],
          "name": "stdout"
        }
      ]
    },
    {
      "cell_type": "code",
      "metadata": {
        "id": "APqmwRr4hIRU",
        "colab_type": "code",
        "colab": {}
      },
      "source": [
        ""
      ],
      "execution_count": 0,
      "outputs": []
    }
  ]
}
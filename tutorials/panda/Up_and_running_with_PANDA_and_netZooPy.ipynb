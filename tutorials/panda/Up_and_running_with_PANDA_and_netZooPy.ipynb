{
 "cells": [
  {
   "cell_type": "markdown",
   "metadata": {},
   "source": [
    "# Up and running with PANDA and netZooPy"
   ]
  },
  {
   "cell_type": "markdown",
   "metadata": {},
   "source": [
    "Author : Daniel Morgan"
   ]
  },
  {
   "cell_type": "markdown",
   "metadata": {},
   "source": [
    "Regulatory network reconstruction is a fundamental problem in computational biology. There are significant limitations to such reconstruction using individual datasets, and increasingly people attempt to construct networks using multiple, independent datasets obtained from complementary sources, but methods for this integration are lacking. We developed PANDA (Passing Attributes between Networks for Data Assimilation), a message-passing model using multiple sources of information to predict regulatory relationships, and used it to integrate protein-protein interaction, gene expression, and sequence motif data to reconstruct genome-wide, condition-specific regulatory networks in yeast as a model. The resulting networks were not only more accurate than those produced using individual data sets and other existing methods, but they also captured information regarding specific biological mechanisms and pathways that were missed using other methodologies. PANDA is scalable to higher eukaryotes, applicable to specific tissue or cell type data and conceptually generalizable to include a variety of regulatory, interaction, expression, and other genome-scale data.\n",
    "\n",
    "Glass K, Huttenhower C, Quackenbush J, Yuan GC. Passing Messages Between Biological Networks to Refine Predicted Interactions, PLoS One, 2013 May 31;8(5):e64832"
   ]
  },
  {
   "cell_type": "code",
   "execution_count": 19,
   "metadata": {},
   "outputs": [
    {
     "data": {
      "text/html": [
       "<img src=\"https://journals.plos.org/plosone/article/figure/image?size=large&id=info:doi/10.1371/journal.pone.0064832.g001\" width=\"500\" height=\"500\"/>"
      ],
      "text/plain": [
       "<IPython.core.display.Image object>"
      ]
     },
     "execution_count": 19,
     "metadata": {},
     "output_type": "execute_result"
    }
   ],
   "source": [
    "from IPython.display import Image\n",
    "from IPython.core.display import HTML\n",
    "Image(url= \"https://journals.plos.org/plosone/article/figure/image?size=large&id=info:doi/10.1371/journal.pone.0064832.g001\", width=500, height=500)"
   ]
  },
  {
   "cell_type": "markdown",
   "metadata": {},
   "source": [
    "# Installation and Setup"
   ]
  },
  {
   "cell_type": "code",
   "execution_count": 20,
   "metadata": {},
   "outputs": [
    {
     "name": "stdout",
     "output_type": "stream",
     "text": [
      "Obtaining file:///Users/redmo/netZooPy\n",
      "Requirement already satisfied: pandas in /usr/local/lib/python3.7/site-packages (from netZooPy==0.1.1) (0.25.2)\n",
      "Requirement already satisfied: numpy in /usr/local/lib/python3.7/site-packages (from netZooPy==0.1.1) (1.17.0)\n",
      "Requirement already satisfied: networkx in /usr/local/lib/python3.7/site-packages (from netZooPy==0.1.1) (2.4)\n",
      "Requirement already satisfied: matplotlib in /usr/local/Cellar/graph-tool/2.29_1/libexec/lib/python3.7/site-packages (from netZooPy==0.1.1) (3.1.1)\n",
      "Requirement already satisfied: scipy in /usr/local/lib/python3.7/site-packages (from netZooPy==0.1.1) (1.3.0)\n",
      "Requirement already satisfied: python-dateutil>=2.6.1 in /usr/local/lib/python3.7/site-packages (from pandas->netZooPy==0.1.1) (2.8.0)\n",
      "Requirement already satisfied: pytz>=2017.2 in /usr/local/Cellar/graph-tool/2.29_1/libexec/lib/python3.7/site-packages (from pandas->netZooPy==0.1.1) (2019.1)\n",
      "Requirement already satisfied: decorator>=4.3.0 in /usr/local/lib/python3.7/site-packages (from networkx->netZooPy==0.1.1) (4.4.0)\n",
      "Requirement already satisfied: cycler>=0.10 in /usr/local/Cellar/graph-tool/2.29_1/libexec/lib/python3.7/site-packages (from matplotlib->netZooPy==0.1.1) (0.10.0)\n",
      "Requirement already satisfied: kiwisolver>=1.0.1 in /usr/local/Cellar/graph-tool/2.29_1/libexec/lib/python3.7/site-packages (from matplotlib->netZooPy==0.1.1) (1.1.0)\n",
      "Requirement already satisfied: pyparsing!=2.0.4,!=2.1.2,!=2.1.6,>=2.0.1 in /usr/local/Cellar/graph-tool/2.29_1/libexec/lib/python3.7/site-packages (from matplotlib->netZooPy==0.1.1) (2.4.0)\n",
      "Requirement already satisfied: six>=1.5 in /usr/local/lib/python3.7/site-packages (from python-dateutil>=2.6.1->pandas->netZooPy==0.1.1) (1.12.0)\n",
      "Requirement already satisfied: setuptools in /usr/local/lib/python3.7/site-packages (from kiwisolver>=1.0.1->matplotlib->netZooPy==0.1.1) (41.2.0)\n",
      "Installing collected packages: netZooPy\n",
      "  Found existing installation: netZooPy 0.1.1\n",
      "    Uninstalling netZooPy-0.1.1:\n",
      "      Successfully uninstalled netZooPy-0.1.1\n",
      "  Running setup.py develop for netZooPy\n",
      "Successfully installed netZooPy\n"
     ]
    }
   ],
   "source": [
    "%%bash\n",
    "cd ~\n",
    "# git clone https://github.com/netZoo/netZooPy.git\n",
    "cd netZooPy\n",
    "pip3 install -e ."
   ]
  },
  {
   "cell_type": "markdown",
   "metadata": {},
   "source": [
    "or with conda"
   ]
  },
  {
   "cell_type": "code",
   "execution_count": 21,
   "metadata": {},
   "outputs": [],
   "source": [
    "# source activate myenv\n",
    "# conda install git pip\n",
    "# pip install git+git://github.com/netZoo/netZooPy.git"
   ]
  },
  {
   "cell_type": "code",
   "execution_count": 22,
   "metadata": {},
   "outputs": [
    {
     "data": {
      "text/plain": [
       "'/Users/redmo'"
      ]
     },
     "execution_count": 22,
     "metadata": {},
     "output_type": "execute_result"
    }
   ],
   "source": [
    "import os\n",
    "# os.getcwd()\n",
    "# os.chdir(\"~/\")\n",
    "os.getcwd()"
   ]
  },
  {
   "cell_type": "code",
   "execution_count": 23,
   "metadata": {},
   "outputs": [],
   "source": [
    "from netZooPy.panda.panda import Panda\n",
    "import pandas as pd\n",
    "import matplotlib.pyplot as plt"
   ]
  },
  {
   "cell_type": "markdown",
   "metadata": {},
   "source": [
    "# Parameter Setting & Exploring the Data"
   ]
  },
  {
   "cell_type": "markdown",
   "metadata": {},
   "source": [
    "First, we start by setting the path to the 1) motif prior network, 2) the gene expression data, and 3) the ppi network data.\n",
    "The motif prior network is typically a TF-by-gene binary matrix where 1 indicates the presence of sequence (motif) of a TF in the gene regulatory region and 0 otherwise.\n",
    "Gene expression data is typically a gene-by-sample matrix containing expression data.\n",
    "PPI network is a TF-by-TF binary matrix, where 1 indicates a physical interaction between two TFs and 0 otherwise.\n",
    "If two TFs are likely to binding, they are likely to form regulatory complexes for the same genes."
   ]
  },
  {
   "cell_type": "code",
   "execution_count": 24,
   "metadata": {},
   "outputs": [],
   "source": [
    "expression_data='netZooPy/tests/ToyData/ToyExpressionData.txt'\n",
    "motif_data='netZooPy/tests/ToyData/ToyMotifData.txt'\n",
    "ppi_data='netZooPy/tests/ToyData/ToyPPIData.txt'\n",
    "panda_output='netZooPy/tests/panda/output_panda.txt'"
   ]
  },
  {
   "cell_type": "markdown",
   "metadata": {},
   "source": [
    "There are 1000 genes and 51 samples in our toy data. This is your novel input. The remaining files are known interaction lists."
   ]
  },
  {
   "cell_type": "code",
   "execution_count": 25,
   "metadata": {},
   "outputs": [
    {
     "data": {
      "text/plain": [
       "87"
      ]
     },
     "execution_count": 25,
     "metadata": {},
     "output_type": "execute_result"
    }
   ],
   "source": [
    "motif_data=pd.read_csv(motif_data,sep=\"\\t\",header=None)\n",
    "motif_data[0].unique().size"
   ]
  },
  {
   "cell_type": "code",
   "execution_count": 26,
   "metadata": {},
   "outputs": [
    {
     "data": {
      "text/plain": [
       "913"
      ]
     },
     "execution_count": 26,
     "metadata": {},
     "output_type": "execute_result"
    }
   ],
   "source": [
    "motif_data[1].unique().size"
   ]
  },
  {
   "cell_type": "markdown",
   "metadata": {},
   "source": [
    "Since the first column is TF, you thus have 87 TF and 913 genes are returned from the second column, with their interaction weights in the third column (motif_data[2]). Now lets check out the ppi data, another interaction list with three columns, with 238 interactions between the TF."
   ]
  },
  {
   "cell_type": "code",
   "execution_count": 27,
   "metadata": {},
   "outputs": [
    {
     "data": {
      "text/plain": [
       "(238, 3)"
      ]
     },
     "execution_count": 27,
     "metadata": {},
     "output_type": "execute_result"
    }
   ],
   "source": [
    "ppi_data=pd.read_csv(ppi_data,sep=\"\\t\",header=None)\n",
    "ppi_data.shape"
   ]
  },
  {
   "cell_type": "markdown",
   "metadata": {},
   "source": [
    "# Calling PANDA"
   ]
  },
  {
   "cell_type": "markdown",
   "metadata": {},
   "source": [
    "One can chose to run in terminal simply by pointing to the input files"
   ]
  },
  {
   "cell_type": "code",
   "execution_count": 28,
   "metadata": {},
   "outputs": [],
   "source": [
    "# %%bash\n",
    "# cd netZooPy\n",
    "# pip3 install -e .\n",
    "# python netZooPy/panda/run_panda.py -e netZooPy/tests/ToyData/ToyExpressionData.txt -m netZooPy/tests/ToyData/ToyMotifData.txt -p netZooPy/tests/ToyData/ToyPPIData.txt -f True -o test_panda.txt"
   ]
  },
  {
   "cell_type": "markdown",
   "metadata": {},
   "source": [
    "Alternatively one can continue running in Jupyter, using all data sources:"
   ]
  },
  {
   "cell_type": "code",
   "execution_count": 40,
   "metadata": {},
   "outputs": [
    {
     "name": "stdout",
     "output_type": "stream",
     "text": [
      "Loading motif data ...\n",
      "Unique TFs: 87\n",
      "  Elapsed time: 0.01 sec.\n",
      "Loading expression data ...\n",
      "Expression matrix: (1000, 50)\n",
      "  Elapsed time: 0.02 sec.\n",
      "Loading PPI data ...\n",
      "Number of PPIs: 238\n",
      "  Elapsed time: 0.00 sec.\n",
      "Calculating coexpression network ...\n",
      "  Elapsed time: 0.01 sec.\n",
      "Creating motif network ...\n",
      "  Elapsed time: 0.01 sec.\n",
      "Creating PPI network ...\n",
      "  Elapsed time: 0.00 sec.\n",
      "Normalizing networks ...\n",
      "  Elapsed time: 0.03 sec.\n",
      "Saving expression matrix and normalized networks ...\n",
      "  Elapsed time: 0.00 sec.\n",
      "Running PANDA algorithm ...\n"
     ]
    },
    {
     "name": "stderr",
     "output_type": "stream",
     "text": [
      "/Users/redmo/opt/anaconda3/lib/python3.7/site-packages/scipy/stats/stats.py:2315: RuntimeWarning: divide by zero encountered in true_divide\n",
      "  return (a - mns) / sstd\n"
     ]
    },
    {
     "name": "stdout",
     "output_type": "stream",
     "text": [
      "Saving PANDA network to netZooPy/tests/panda/output_panda.txt ...\n",
      "  Elapsed time: 0.22 sec.\n"
     ]
    }
   ],
   "source": [
    "expression_data='netZooPy/tests/ToyData/ToyExpressionData.txt'\n",
    "motif_data='netZooPy/tests/ToyData/ToyMotifData.txt'\n",
    "ppi_data='netZooPy/tests/ToyData/ToyPPIData.txt'\n",
    "panda_obj = Panda(expression_data, motif_data, ppi_data, save_tmp=True,save_memory = False, remove_missing=False, keep_expression_matrix = False)\n",
    "panda_obj.save_panda_results(panda_output)"
   ]
  },
  {
   "cell_type": "code",
   "execution_count": 30,
   "metadata": {},
   "outputs": [
    {
     "data": {
      "text/plain": [
       "64"
      ]
     },
     "execution_count": 30,
     "metadata": {},
     "output_type": "execute_result"
    }
   ],
   "source": [
    "import sys\n",
    "sys.getsizeof(panda_obj)"
   ]
  },
  {
   "cell_type": "code",
   "execution_count": 31,
   "metadata": {},
   "outputs": [
    {
     "name": "stderr",
     "output_type": "stream",
     "text": [
      "/Users/redmo/opt/anaconda3/lib/python3.7/site-packages/networkx/drawing/nx_pylab.py:579: MatplotlibDeprecationWarning: \n",
      "The iterable function was deprecated in Matplotlib 3.1 and will be removed in 3.3. Use np.iterable instead.\n",
      "  if not cb.iterable(width):\n",
      "/Users/redmo/opt/anaconda3/lib/python3.7/site-packages/networkx/drawing/nx_pylab.py:585: MatplotlibDeprecationWarning: \n",
      "The iterable function was deprecated in Matplotlib 3.1 and will be removed in 3.3. Use np.iterable instead.\n",
      "  and cb.iterable(edge_color) \\\n",
      "/Users/redmo/opt/anaconda3/lib/python3.7/site-packages/networkx/drawing/nx_pylab.py:595: MatplotlibDeprecationWarning: \n",
      "The iterable function was deprecated in Matplotlib 3.1 and will be removed in 3.3. Use np.iterable instead.\n",
      "  for c in edge_color]):\n"
     ]
    },
    {
     "data": {
      "image/png": "[encoded data removed]",
      "text/plain": [
       "<Figure size 432x288 with 1 Axes>"
      ]
     },
     "metadata": {},
     "output_type": "display_data"
    }
   ],
   "source": [
    "panda_obj.top_network_plot(top=10)"
   ]
  },
  {
   "cell_type": "markdown",
   "metadata": {},
   "source": [
    "using only the motif prior"
   ]
  },
  {
   "cell_type": "code",
   "execution_count": 32,
   "metadata": {},
   "outputs": [
    {
     "name": "stdout",
     "output_type": "stream",
     "text": [
      "Loading motif data ...\n",
      "Unique TFs: 87\n",
      "  Elapsed time: 0.02 sec.\n",
      "No Expression data given: correlation matrix will be an identity matrix of size 913\n",
      "No PPI data given: ppi matrix will be an identity matrix of size 87\n",
      "Remove motif not in expression data:\n",
      "   0 rows removed from the initial 14597\n",
      "Calculating coexpression network ...\n",
      "  Elapsed time: 0.00 sec.\n",
      "Creating motif network ...\n",
      "  Elapsed time: 0.01 sec.\n",
      "Normalizing networks ...\n",
      "  Elapsed time: 0.03 sec.\n",
      "Saving expression matrix and normalized networks ...\n",
      "  Elapsed time: 0.00 sec.\n",
      "Running PANDA algorithm ...\n",
      "Saving PANDA network to netZooPy/tests/panda/output_panda.txt ...\n",
      "  Elapsed time: 0.22 sec.\n"
     ]
    }
   ],
   "source": [
    "expression_data=None\n",
    "motif_data='netZooPy/tests/ToyData/ToyMotifData.txt'\n",
    "ppi_data=None\n",
    "panda_obj = Panda(expression_data,  motif_data, ppi_data,remove_missing=True)\n",
    "panda_obj.save_panda_results(panda_output)"
   ]
  },
  {
   "cell_type": "code",
   "execution_count": 33,
   "metadata": {},
   "outputs": [
    {
     "data": {
      "image/png": "[encoded data removed]",
      "text/plain": [
       "<Figure size 432x288 with 1 Axes>"
      ]
     },
     "metadata": {},
     "output_type": "display_data"
    }
   ],
   "source": [
    "panda_obj.top_network_plot(top=10)"
   ]
  },
  {
   "cell_type": "markdown",
   "metadata": {},
   "source": [
    "without the expression matrix"
   ]
  },
  {
   "cell_type": "code",
   "execution_count": 34,
   "metadata": {},
   "outputs": [
    {
     "name": "stdout",
     "output_type": "stream",
     "text": [
      "Loading motif data ...\n",
      "Unique TFs: 87\n",
      "  Elapsed time: 0.02 sec.\n",
      "No Expression data given: correlation matrix will be an identity matrix of size 913\n",
      "Loading PPI data ...\n",
      "Number of PPIs: 238\n",
      "  Elapsed time: 0.00 sec.\n",
      "Remove motif not in expression data:\n",
      "   0 rows removed from the initial 14597\n",
      "Remove ppi not in motif:\n",
      "   0 rows removed from the initial 238\n",
      "Calculating coexpression network ...\n",
      "  Elapsed time: 0.00 sec.\n",
      "Creating motif network ...\n",
      "  Elapsed time: 0.01 sec.\n",
      "Creating PPI network ...\n",
      "  Elapsed time: 0.00 sec.\n",
      "Normalizing networks ...\n",
      "  Elapsed time: 0.03 sec.\n",
      "Saving expression matrix and normalized networks ...\n",
      "  Elapsed time: 0.00 sec.\n",
      "Running PANDA algorithm ...\n",
      "Saving PANDA network to netZooPy/tests/panda/output_panda.txt ...\n",
      "  Elapsed time: 0.21 sec.\n"
     ]
    }
   ],
   "source": [
    "expression_data=None\n",
    "motif_data='netZooPy/tests/ToyData/ToyMotifData.txt'\n",
    "ppi_data='netZooPy/tests/ToyData/ToyPPIData.txt'\n",
    "panda_obj = Panda(expression_data,  motif_data, ppi_data,remove_missing=True)\n",
    "panda_obj.save_panda_results(panda_output)"
   ]
  },
  {
   "cell_type": "code",
   "execution_count": 35,
   "metadata": {},
   "outputs": [
    {
     "data": {
      "image/png": "[encoded data removed]",
      "text/plain": [
       "<Figure size 432x288 with 1 Axes>"
      ]
     },
     "metadata": {},
     "output_type": "display_data"
    }
   ],
   "source": [
    "panda_obj.top_network_plot(top=10)"
   ]
  },
  {
   "cell_type": "markdown",
   "metadata": {},
   "source": [
    "and without using a motif prior"
   ]
  },
  {
   "cell_type": "code",
   "execution_count": 36,
   "metadata": {},
   "outputs": [
    {
     "name": "stdout",
     "output_type": "stream",
     "text": [
      "Loading expression data ...\n",
      "Expression matrix: (1000, 50)\n",
      "  Elapsed time: 0.02 sec.\n",
      "Loading PPI data ...\n",
      "Number of PPIs: 238\n",
      "  Elapsed time: 0.00 sec.\n",
      "Calculating coexpression network ...\n",
      "  Elapsed time: 0.01 sec.\n",
      "Returning the correlation matrix of expression data in <Panda_obj>.correlation_matrix\n",
      "Saving PANDA network to netZooPy/tests/panda/output_panda.txt ...\n",
      "  Elapsed time: 1.99 sec.\n"
     ]
    }
   ],
   "source": [
    "expression_data='netZooPy/tests/ToyData/ToyExpressionData.txt'\n",
    "motif_data=None\n",
    "ppi_data='netZooPy/tests/ToyData/ToyPPIData.txt'\n",
    "panda_obj = Panda(expression_data, motif_data, ppi_data)\n",
    "panda_obj.save_panda_results(panda_output)"
   ]
  },
  {
   "cell_type": "markdown",
   "metadata": {},
   "source": [
    "and saving memory by deleting intermediary files"
   ]
  },
  {
   "cell_type": "code",
   "execution_count": 38,
   "metadata": {
    "scrolled": false
   },
   "outputs": [
    {
     "name": "stdout",
     "output_type": "stream",
     "text": [
      "Loading motif data ...\n",
      "Unique TFs: 87\n",
      "  Elapsed time: 0.02 sec.\n",
      "Loading expression data ...\n",
      "Expression matrix: (1000, 50)\n",
      "  Elapsed time: 0.01 sec.\n",
      "Loading PPI data ...\n",
      "Number of PPIs: 238\n",
      "  Elapsed time: 0.00 sec.\n",
      "Calculating coexpression network ...\n",
      "  Elapsed time: 0.01 sec.\n",
      "Creating motif network ...\n",
      "  Elapsed time: 0.01 sec.\n",
      "Creating PPI network ...\n",
      "  Elapsed time: 0.00 sec.\n",
      "Normalizing networks ...\n",
      "  Elapsed time: 0.03 sec.\n",
      "Clearing motif and ppi data, unique tfs, and gene names for speed\n",
      "Saving expression matrix and normalized networks ...\n",
      "  Elapsed time: 0.01 sec.\n",
      "Running PANDA algorithm ...\n",
      "Saving PANDA network to netZooPy/tests/panda/output_panda.txt ...\n",
      "  Elapsed time: 0.08 sec.\n"
     ]
    }
   ],
   "source": [
    "expression_data='netZooPy/tests/ToyData/ToyExpressionData.txt'\n",
    "motif_data='netZooPy/tests/ToyData/ToyMotifData.txt'\n",
    "ppi_data='netZooPy/tests/ToyData/ToyPPIData.txt'\n",
    "panda_obj = Panda(expression_data, motif_data, ppi_data, save_memory=True)\n",
    "panda_obj.save_panda_results(panda_output)"
   ]
  },
  {
   "cell_type": "markdown",
   "metadata": {},
   "source": [
    "Basic follow up analysis is also possible, such as degree calculation per gene"
   ]
  },
  {
   "cell_type": "code",
   "execution_count": 46,
   "metadata": {},
   "outputs": [
    {
     "data": {
      "text/html": [
       "<div>\n",
       "<style scoped>\n",
       "    .dataframe tbody tr th:only-of-type {\n",
       "        vertical-align: middle;\n",
       "    }\n",
       "\n",
       "    .dataframe tbody tr th {\n",
       "        vertical-align: top;\n",
       "    }\n",
       "\n",
       "    .dataframe thead th {\n",
       "        text-align: right;\n",
       "    }\n",
       "</style>\n",
       "<table border=\"1\" class=\"dataframe\">\n",
       "  <thead>\n",
       "    <tr style=\"text-align: right;\">\n",
       "      <th></th>\n",
       "      <th>force</th>\n",
       "    </tr>\n",
       "    <tr>\n",
       "      <th>gene</th>\n",
       "      <th></th>\n",
       "    </tr>\n",
       "  </thead>\n",
       "  <tbody>\n",
       "    <tr>\n",
       "      <td>41157</td>\n",
       "      <td>1.139713</td>\n",
       "    </tr>\n",
       "    <tr>\n",
       "      <td>AACSL</td>\n",
       "      <td>-5.090725</td>\n",
       "    </tr>\n",
       "    <tr>\n",
       "      <td>AAK1</td>\n",
       "      <td>-10.923515</td>\n",
       "    </tr>\n",
       "    <tr>\n",
       "      <td>ABCA17P</td>\n",
       "      <td>-8.919393</td>\n",
       "    </tr>\n",
       "    <tr>\n",
       "      <td>ABCB8</td>\n",
       "      <td>9.091765</td>\n",
       "    </tr>\n",
       "    <tr>\n",
       "      <td>...</td>\n",
       "      <td>...</td>\n",
       "    </tr>\n",
       "    <tr>\n",
       "      <td>ZNF826</td>\n",
       "      <td>-7.009150</td>\n",
       "    </tr>\n",
       "    <tr>\n",
       "      <td>ZNF845</td>\n",
       "      <td>-7.942670</td>\n",
       "    </tr>\n",
       "    <tr>\n",
       "      <td>ZNF878</td>\n",
       "      <td>-11.919082</td>\n",
       "    </tr>\n",
       "    <tr>\n",
       "      <td>ZSWIM3</td>\n",
       "      <td>38.185909</td>\n",
       "    </tr>\n",
       "    <tr>\n",
       "      <td>ZWILCH</td>\n",
       "      <td>-1.784825</td>\n",
       "    </tr>\n",
       "  </tbody>\n",
       "</table>\n",
       "<p>1000 rows × 1 columns</p>\n",
       "</div>"
      ],
      "text/plain": [
       "             force\n",
       "gene              \n",
       "41157     1.139713\n",
       "AACSL    -5.090725\n",
       "AAK1    -10.923515\n",
       "ABCA17P  -8.919393\n",
       "ABCB8     9.091765\n",
       "...            ...\n",
       "ZNF826   -7.009150\n",
       "ZNF845   -7.942670\n",
       "ZNF878  -11.919082\n",
       "ZSWIM3   38.185909\n",
       "ZWILCH   -1.784825\n",
       "\n",
       "[1000 rows x 1 columns]"
      ]
     },
     "execution_count": 46,
     "metadata": {},
     "output_type": "execute_result"
    }
   ],
   "source": [
    "panda_obj.return_panda_indegree()"
   ]
  },
  {
   "cell_type": "code",
   "execution_count": 51,
   "metadata": {},
   "outputs": [
    {
     "name": "stdout",
     "output_type": "stream",
     "text": [
      "Saving PANDA network to panda.npy ...\n",
      "  Elapsed time: 0.14 sec.\n"
     ]
    }
   ],
   "source": [
    "panda_obj.save_panda_results()"
   ]
  }
 ],
 "metadata": {
  "kernelspec": {
   "display_name": "Python 3",
   "language": "python",
   "name": "python3"
  },
  "language_info": {
   "codemirror_mode": {
    "name": "ipython",
    "version": 3
   },
   "file_extension": ".py",
   "mimetype": "text/x-python",
   "name": "python",
   "nbconvert_exporter": "python",
   "pygments_lexer": "ipython3",
   "version": "3.7.4"
  }
 },
 "nbformat": 4,
 "nbformat_minor": 4
}

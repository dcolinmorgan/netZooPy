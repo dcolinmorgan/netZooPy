{
 "cells": [
  {
   "cell_type": "markdown",
   "metadata": {},
   "source": [
    "# CONDOR usage example"
   ]
  },
  {
   "cell_type": "markdown",
   "metadata": {},
   "source": [
    "Author: Genís Calderer - Kuijjer Lab (NCMM) - genis.calderer@gmail.com"
   ]
  },
  {
   "cell_type": "markdown",
   "metadata": {},
   "source": [
    "The condor method is an implementation of the brim algorithm for the analysis of bipartite networks. The purpose of this algorithm is to find a community structure in bipartite networks that takes into account the bipartite structure of the network as opposed to using the network as if it did not have an extra structure.\n",
    "This algorithm was first described in the paper \"Modularity and community detection in bipartite networks\" by Michael J. Barber.\" The python implementation of condor is based on the R version presented in the paper \"Bipartite Community Structure of eQTLs\" by John Platig , Peter J. Castaldi, Dawn DeMeo, John Quackenbush."
   ]
  },
  {
   "cell_type": "markdown",
   "metadata": {},
   "source": [
    "This guide will show how to use CONDOR using a toy network of pollinization between bee species and flower species. It is a small network but as we will see it has a quite well defined modularity structure."
   ]
  },
  {
   "cell_type": "markdown",
   "metadata": {},
   "source": [
    "## 1. Importing CONDOR from netZooPy"
   ]
  },
  {
   "cell_type": "markdown",
   "metadata": {},
   "source": [
    "In order to use the SAMBAR functions it has to be imported from the netZooPy as follows:"
   ]
  },
  {
   "cell_type": "code",
   "execution_count": 1,
   "metadata": {},
   "outputs": [],
   "source": [
    "from netZooPy import condor"
   ]
  },
  {
   "cell_type": "markdown",
   "metadata": {},
   "source": [
    "To check the parameters and information on the main condor functions type this:"
   ]
  },
  {
   "cell_type": "code",
   "execution_count": 8,
   "metadata": {},
   "outputs": [
    {
     "name": "stdout",
     "output_type": "stream",
     "text": [
      "Help on function condor_object in module condor.condor:\n",
      "\n",
      "condor_object(net)\n",
      "    Initialization of the condor object. The function gets a network in edgelist format encoded in a pandas dataframe.\n",
      "    Returns a dictionary with an igraph network, names of the targets and regulators, list of edges, modularity, and vertex memberships.\n",
      "\n",
      "Help on function initial_community in module condor.condor:\n",
      "\n",
      "initial_community(CO, method='LCS', project=False)\n",
      "    Computation of the initial community structure based on unipartite methods.\n",
      "    The implementation using bipartite projection is not yet available, but project=False performs better modularity-wise (at least with the networks I worked on).\n",
      "\n",
      "Help on function brim in module condor.condor:\n",
      "\n",
      "brim(CO, deltaQmin='def', c=25)\n",
      "    Implementation of the BRIM algorithm to iteratively maximize bipartite modularity.\n",
      "    Note that c is the maximum number of communities. Dynamic choice of c is not yet implemented.\n",
      "\n",
      "Help on function condor in module condor.condor:\n",
      "\n",
      "condor(filename, c=25, deltaQmin='def')\n",
      "    Default settings run of condor with output of the membership dataframes.\n",
      "    Reads a network in csv format and index_col=0.\n",
      "\n"
     ]
    }
   ],
   "source": [
    "help(condor.condor_object)\n",
    "help(condor.initial_community)\n",
    "help(condor.brim)\n",
    "help(condor.condor)"
   ]
  },
  {
   "cell_type": "markdown",
   "metadata": {},
   "source": [
    "## 2. Loading the network into a CONDOR object"
   ]
  },
  {
   "cell_type": "markdown",
   "metadata": {},
   "source": [
    "To use the CONDOR method we first have to import a network's edgelist into a pandas dataframe."
   ]
  },
  {
   "cell_type": "code",
   "execution_count": 22,
   "metadata": {},
   "outputs": [
    {
     "data": {
      "text/html": [
       "<div>\n",
       "<style scoped>\n",
       "    .dataframe tbody tr th:only-of-type {\n",
       "        vertical-align: middle;\n",
       "    }\n",
       "\n",
       "    .dataframe tbody tr th {\n",
       "        vertical-align: top;\n",
       "    }\n",
       "\n",
       "    .dataframe thead th {\n",
       "        text-align: right;\n",
       "    }\n",
       "</style>\n",
       "<table border=\"1\" class=\"dataframe\">\n",
       "  <thead>\n",
       "    <tr style=\"text-align: right;\">\n",
       "      <th></th>\n",
       "      <th>pollinator</th>\n",
       "      <th>plant</th>\n",
       "      <th>interactions</th>\n",
       "    </tr>\n",
       "  </thead>\n",
       "  <tbody>\n",
       "    <tr>\n",
       "      <th>1</th>\n",
       "      <td>Adela.purpurea</td>\n",
       "      <td>Salix.fragilis</td>\n",
       "      <td>20</td>\n",
       "    </tr>\n",
       "    <tr>\n",
       "      <th>2</th>\n",
       "      <td>Adela.purpurea</td>\n",
       "      <td>Chamaedaphne.calyculata</td>\n",
       "      <td>0</td>\n",
       "    </tr>\n",
       "    <tr>\n",
       "      <th>3</th>\n",
       "      <td>Adela.purpurea</td>\n",
       "      <td>Nemopanthus.mucronata</td>\n",
       "      <td>0</td>\n",
       "    </tr>\n",
       "    <tr>\n",
       "      <th>4</th>\n",
       "      <td>Adela.purpurea</td>\n",
       "      <td>Andromeda.glaucophylla</td>\n",
       "      <td>0</td>\n",
       "    </tr>\n",
       "    <tr>\n",
       "      <th>5</th>\n",
       "      <td>Adela.purpurea</td>\n",
       "      <td>Kalmia.polifolia</td>\n",
       "      <td>0</td>\n",
       "    </tr>\n",
       "  </tbody>\n",
       "</table>\n",
       "</div>"
      ],
      "text/plain": [
       "       pollinator                    plant  interactions\n",
       "1  Adela.purpurea           Salix.fragilis            20\n",
       "2  Adela.purpurea  Chamaedaphne.calyculata             0\n",
       "3  Adela.purpurea    Nemopanthus.mucronata             0\n",
       "4  Adela.purpurea   Andromeda.glaucophylla             0\n",
       "5  Adela.purpurea         Kalmia.polifolia             0"
      ]
     },
     "execution_count": 22,
     "metadata": {},
     "output_type": "execute_result"
    }
   ],
   "source": [
    "import pandas as pd\n",
    "network = pd.read_csv(\"toynetwork.csv\",index_col=0)\n",
    "network.head(5)"
   ]
  },
  {
   "cell_type": "markdown",
   "metadata": {},
   "source": [
    "We initialize the CONDOR object with the condor_object function:"
   ]
  },
  {
   "cell_type": "code",
   "execution_count": 10,
   "metadata": {},
   "outputs": [
    {
     "name": "stdout",
     "output_type": "stream",
     "text": [
      "Weights detected\n",
      "Condor object built in 0.0059773921966552734\n"
     ]
    }
   ],
   "source": [
    "condor_object = condor.condor_object(network)"
   ]
  },
  {
   "cell_type": "markdown",
   "metadata": {},
   "source": [
    "The condor object contains several features associated to the network and once initialized is passed to the other condor functions:"
   ]
  },
  {
   "cell_type": "code",
   "execution_count": 13,
   "metadata": {},
   "outputs": [
    {
     "data": {
      "text/plain": [
       "dict_keys(['G', 'tar_names', 'reg_names', 'index_dict', 'edges', 'modularity', 'reg_memb', 'Qcoms'])"
      ]
     },
     "execution_count": 13,
     "metadata": {},
     "output_type": "execute_result"
    }
   ],
   "source": [
    "condor_object.keys()"
   ]
  },
  {
   "cell_type": "markdown",
   "metadata": {},
   "source": [
    "## 3. Running CONDOR"
   ]
  },
  {
   "cell_type": "markdown",
   "metadata": {},
   "source": [
    "The next step is computing the initial community structure. By default we use the Louvain method."
   ]
  },
  {
   "cell_type": "code",
   "execution_count": 14,
   "metadata": {},
   "outputs": [
    {
     "name": "stdout",
     "output_type": "stream",
     "text": [
      "Initial community structure computed in  0.00099945068359375 . Modularity =  0.5253469286550467\n"
     ]
    }
   ],
   "source": [
    "condor_object = condor.initial_community(condor_object)"
   ]
  },
  {
   "cell_type": "markdown",
   "metadata": {},
   "source": [
    "The condor object now has a community structure associated but it is not specific for bipartite networks. We apply the brim algorithm to find the bipartite community structure."
   ]
  },
  {
   "cell_type": "code",
   "execution_count": 18,
   "metadata": {},
   "outputs": [
    {
     "name": "stdout",
     "output_type": "stream",
     "text": [
      "Matrices computed in 0.0019989013671875\n",
      "0.5266669647502602\n",
      "0.5266669647502602\n"
     ]
    }
   ],
   "source": [
    "condor_object = condor.brim(condor_object,deltaQmin=\"def\")"
   ]
  },
  {
   "cell_type": "markdown",
   "metadata": {},
   "source": [
    "The numbers in the output of this function show the bipartite modularity score for each iteration. The modularity of a bipartite network is a value from 0 to 1 that quantifies how well separated is the network into modules. A score of 0.52 is quite high."
   ]
  },
  {
   "cell_type": "markdown",
   "metadata": {},
   "source": [
    "## 4. Results"
   ]
  },
  {
   "cell_type": "markdown",
   "metadata": {},
   "source": [
    "The resulting condor_object of the above process has the membership of the target and regulator nodes into the different communities that have been found."
   ]
  },
  {
   "cell_type": "code",
   "execution_count": 19,
   "metadata": {},
   "outputs": [
    {
     "data": {
      "text/plain": [
       "dict_keys(['G', 'tar_names', 'reg_names', 'index_dict', 'edges', 'modularity', 'reg_memb', 'Qcoms', 'tar_memb'])"
      ]
     },
     "execution_count": 19,
     "metadata": {},
     "output_type": "execute_result"
    }
   ],
   "source": [
    "condor_object.keys() "
   ]
  },
  {
   "cell_type": "markdown",
   "metadata": {},
   "source": [
    "For example if we want to see the membership of the $reg$ nodes we can do it as follows:"
   ]
  },
  {
   "cell_type": "code",
   "execution_count": 21,
   "metadata": {},
   "outputs": [
    {
     "data": {
      "text/html": [
       "<div>\n",
       "<style scoped>\n",
       "    .dataframe tbody tr th:only-of-type {\n",
       "        vertical-align: middle;\n",
       "    }\n",
       "\n",
       "    .dataframe tbody tr th {\n",
       "        vertical-align: top;\n",
       "    }\n",
       "\n",
       "    .dataframe thead th {\n",
       "        text-align: right;\n",
       "    }\n",
       "</style>\n",
       "<table border=\"1\" class=\"dataframe\">\n",
       "  <thead>\n",
       "    <tr style=\"text-align: right;\">\n",
       "      <th></th>\n",
       "      <th>reg</th>\n",
       "      <th>com</th>\n",
       "    </tr>\n",
       "  </thead>\n",
       "  <tbody>\n",
       "    <tr>\n",
       "      <th>0</th>\n",
       "      <td>Andromeda.glaucophylla</td>\n",
       "      <td>2</td>\n",
       "    </tr>\n",
       "    <tr>\n",
       "      <th>1</th>\n",
       "      <td>Aronia.melanocarpa</td>\n",
       "      <td>5</td>\n",
       "    </tr>\n",
       "    <tr>\n",
       "      <th>2</th>\n",
       "      <td>Calopogon.pulchellus</td>\n",
       "      <td>1</td>\n",
       "    </tr>\n",
       "    <tr>\n",
       "      <th>3</th>\n",
       "      <td>Chamaedaphne.calyculata</td>\n",
       "      <td>6</td>\n",
       "    </tr>\n",
       "    <tr>\n",
       "      <th>4</th>\n",
       "      <td>Gaylussacia.baccata</td>\n",
       "      <td>6</td>\n",
       "    </tr>\n",
       "  </tbody>\n",
       "</table>\n",
       "</div>"
      ],
      "text/plain": [
       "                       reg  com\n",
       "0   Andromeda.glaucophylla    2\n",
       "1       Aronia.melanocarpa    5\n",
       "2     Calopogon.pulchellus    1\n",
       "3  Chamaedaphne.calyculata    6\n",
       "4      Gaylussacia.baccata    6"
      ]
     },
     "execution_count": 21,
     "metadata": {},
     "output_type": "execute_result"
    }
   ],
   "source": [
    "condor_object[\"reg_memb\"].head(5)"
   ]
  },
  {
   "cell_type": "markdown",
   "metadata": {},
   "source": [
    "## 5. Running CONDOR from filename"
   ]
  },
  {
   "cell_type": "markdown",
   "metadata": {},
   "source": [
    "We note that the guide above shows how to use the method step by step. There is also the possibility to run automatically the whole process starting only with the filename of the network's edgelist in csv format.\n",
    "This is done using the condor function, and it outputs the target and regulator memberships into csv files. This however allows less control on the parameters of the method."
   ]
  },
  {
   "cell_type": "code",
   "execution_count": 23,
   "metadata": {},
   "outputs": [
    {
     "name": "stdout",
     "output_type": "stream",
     "text": [
      "Weights detected\n",
      "Condor object built in 0.004999399185180664\n",
      "Initial community structure computed in  0.0009996891021728516 . Modularity =  0.5253469286550467\n",
      "Matrices computed in 0.0009989738464355469\n",
      "0.5266669647502602\n",
      "0.5266669647502602\n"
     ]
    },
    {
     "data": {
      "text/plain": [
       "'Runtime 0.1844480037689209s'"
      ]
     },
     "execution_count": 23,
     "metadata": {},
     "output_type": "execute_result"
    }
   ],
   "source": [
    "condor.condor(\"toynetwork.csv\")"
   ]
  },
  {
   "cell_type": "code",
   "execution_count": null,
   "metadata": {},
   "outputs": [],
   "source": []
  }
 ],
 "metadata": {
  "kernelspec": {
   "display_name": "Python 3",
   "language": "python",
   "name": "python3"
  },
  "language_info": {
   "codemirror_mode": {
    "name": "ipython",
    "version": 3
   },
   "file_extension": ".py",
   "mimetype": "text/x-python",
   "name": "python",
   "nbconvert_exporter": "python",
   "pygments_lexer": "ipython3",
   "version": "3.7.3"
  }
 },
 "nbformat": 4,
 "nbformat_minor": 2
}
